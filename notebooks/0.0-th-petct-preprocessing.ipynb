{
 "cells": [
  {
   "cell_type": "code",
   "execution_count": 81,
   "id": "material-aging",
   "metadata": {},
   "outputs": [],
   "source": [
    "import pathlib as plb\n",
    "\n",
    "import dicom2nifti\n",
    "import nibabel as nib\n",
    "import numpy as np\n",
    "import matplotlib.pyplot as plt\n",
    "import pydicom "
   ]
  },
  {
   "cell_type": "code",
   "execution_count": 82,
   "id": "geological-algeria",
   "metadata": {},
   "outputs": [],
   "source": [
    "# specify dicom directory: \n",
    "dicom_dir = '/home/thepp/out'\n",
    "dicom_dir = plb.Path(dicom_dir)"
   ]
  },
  {
   "cell_type": "markdown",
   "id": "institutional-wichita",
   "metadata": {},
   "source": [
    "### Convert DICOM to NIFTI"
   ]
  },
  {
   "cell_type": "code",
   "execution_count": 83,
   "id": "chinese-blame",
   "metadata": {},
   "outputs": [],
   "source": [
    "nifti_dir = dicom_dir/'nifti'\n",
    "nifti_dir.mkdir(exist_ok=True)"
   ]
  },
  {
   "cell_type": "code",
   "execution_count": 84,
   "id": "surprised-stylus",
   "metadata": {},
   "outputs": [
    {
     "name": "stdout",
     "output_type": "stream",
     "text": [
      "285 PET dicom files, 342 CT dicom files\n"
     ]
    }
   ],
   "source": [
    "# sort pet and ct dicom files\n",
    "dicom_files = {'CT': [], 'PT': []}\n",
    "for f in dicom_dir.glob('*.dcm'):\n",
    "    modality = pydicom.dcmread(str(f)).Modality\n",
    "    assert modality in ['PT', 'CT']\n",
    "    dicom_files[modality].append(str(f))\n",
    "print(f'{len(dicom_files[\"PT\"])} PET dicom files, {len(dicom_files[\"CT\"])} CT dicom files')"
   ]
  },
  {
   "cell_type": "code",
   "execution_count": 85,
   "id": "excellent-peter",
   "metadata": {},
   "outputs": [],
   "source": [
    "# convert dicom direcotry to nifti\n",
    "dicom2nifti.convert_directory(dicom_dir, nifti_dir, compression=True, reorient=True)"
   ]
  },
  {
   "cell_type": "markdown",
   "id": "inclusive-approval",
   "metadata": {},
   "source": [
    "### SUV intensity conversion"
   ]
  },
  {
   "cell_type": "code",
   "execution_count": 86,
   "id": "bearing-walnut",
   "metadata": {},
   "outputs": [],
   "source": [
    "def conv_time(time_str):\n",
    "    return (float(time_str[:2]) * 3600 + float(time_str[2:4]) * 60 + float(time_str[4:13]))\n",
    "\n",
    "def calculate_suv_factor(dcm_path):\n",
    "    ds = pydicom.dcmread(str(dcm_path))\n",
    "    total_dose = ds.RadiopharmaceuticalInformationSequence[0].RadionuclideTotalDose\n",
    "    start_time = ds.RadiopharmaceuticalInformationSequence[0].RadiopharmaceuticalStartTime\n",
    "    half_life = ds.RadiopharmaceuticalInformationSequence[0].RadionuclideHalfLife\n",
    "    acq_time = ds.AcquisitionTime\n",
    "    weight = ds.PatientWeight\n",
    "    time_diff = conv_time(acq_time) - conv_time(start_time)\n",
    "    act_dose = total_dose * 0.5 ** (time_diff / half_life)\n",
    "    suv_factor = 1000 * weight / act_dose\n",
    "    return suv_factor"
   ]
  },
  {
   "cell_type": "code",
   "execution_count": 87,
   "id": "former-efficiency",
   "metadata": {},
   "outputs": [],
   "source": [
    "def convert_pet(pet, suv_factor=1.0):\n",
    "    affine = pet.affine\n",
    "    pet_data = pet.get_fdata()\n",
    "    pet_suv_data = (pet_data*suv_factor).astype(np.float32)\n",
    "    pet_suv = nib.Nifti1Image(pet_suv_data, affine)\n",
    "    return pet_suv "
   ]
  },
  {
   "cell_type": "code",
   "execution_count": 88,
   "id": "quality-speaker",
   "metadata": {},
   "outputs": [
    {
     "name": "stdout",
     "output_type": "stream",
     "text": [
      "SUV correction factor: 0.00037154985878911175\n"
     ]
    }
   ],
   "source": [
    "sample_dcm_file = dicom_files['PT'][0]\n",
    "suv_corr_factor = calculate_suv_factor(sample_dcm_file)\n",
    "print(f'SUV correction factor: {suv_corr_factor}')"
   ]
  },
  {
   "cell_type": "code",
   "execution_count": 89,
   "id": "conscious-butler",
   "metadata": {},
   "outputs": [],
   "source": [
    "raw_pet_nii = next(nifti_dir.glob('*pet*'))\n",
    "suv_pet_nii = convert_pet(nib.load(raw_pet_nii), suv_factor=suv_corr_factor)\n",
    "nib.save(suv_pet_nii, raw_pet_nii.parent/('suv_' + raw_pet_nii.name ))"
   ]
  },
  {
   "cell_type": "markdown",
   "id": "happy-trinidad",
   "metadata": {},
   "source": [
    "### Check data"
   ]
  },
  {
   "cell_type": "code",
   "execution_count": 90,
   "id": "listed-connectivity",
   "metadata": {},
   "outputs": [
    {
     "name": "stdout",
     "output_type": "stream",
     "text": [
      "SUV max 54.26996612548828 SUV min 0.0\n"
     ]
    }
   ],
   "source": [
    "suv_data = suv_pet_nii.get_fdata()\n",
    "print(f'SUV max {suv_data.max()} SUV min {suv_data.min()}')"
   ]
  },
  {
   "cell_type": "code",
   "execution_count": 91,
   "id": "lined-prisoner",
   "metadata": {},
   "outputs": [
    {
     "name": "stdout",
     "output_type": "stream",
     "text": [
      "<class 'nibabel.nifti1.Nifti1Header'> object, endian='<'\n",
      "sizeof_hdr      : 348\n",
      "data_type       : b''\n",
      "db_name         : b''\n",
      "extents         : 0\n",
      "session_error   : 0\n",
      "regular         : b''\n",
      "dim_info        : 0\n",
      "dim             : [  3 400 400 285   1   1   1   1]\n",
      "intent_p1       : 0.0\n",
      "intent_p2       : 0.0\n",
      "intent_p3       : 0.0\n",
      "intent_code     : none\n",
      "datatype        : float32\n",
      "bitpix          : 32\n",
      "slice_start     : 0\n",
      "pixdim          : [-1.       2.03642  2.03642  3.       1.       1.       1.       1.     ]\n",
      "vox_offset      : 0.0\n",
      "scl_slope       : nan\n",
      "scl_inter       : nan\n",
      "slice_end       : 0\n",
      "slice_code      : unknown\n",
      "xyzt_units      : 0\n",
      "cal_max         : 0.0\n",
      "cal_min         : 0.0\n",
      "slice_duration  : 0.0\n",
      "toffset         : 0.0\n",
      "glmax           : 0\n",
      "glmin           : 0\n",
      "descrip         : b''\n",
      "aux_file        : b''\n",
      "qform_code      : unknown\n",
      "sform_code      : aligned\n",
      "quatern_b       : 0.0\n",
      "quatern_c       : 1.0\n",
      "quatern_d       : 0.0\n",
      "qoffset_x       : 406.662\n",
      "qoffset_y       : -154.03758\n",
      "qoffset_z       : -1059.0\n",
      "srow_x          : [ -2.03642   0.        0.      406.662  ]\n",
      "srow_y          : [  -0.         2.03642    0.      -154.03758]\n",
      "srow_z          : [    0.    -0.     3. -1059.]\n",
      "intent_name     : b''\n",
      "magic           : b'n+1'\n"
     ]
    }
   ],
   "source": [
    "print(suv_pet_nii.header)"
   ]
  },
  {
   "cell_type": "code",
   "execution_count": 92,
   "id": "compressed-swing",
   "metadata": {},
   "outputs": [
    {
     "data": {
      "text/plain": [
       "<matplotlib.image.AxesImage at 0x7f1fac5d13d0>"
      ]
     },
     "execution_count": 92,
     "metadata": {},
     "output_type": "execute_result"
    },
    {
     "data": {
      "image/png": "[encoded data removed]",
      "text/plain": [
       "<Figure size 432x288 with 1 Axes>"
      ]
     },
     "metadata": {
      "needs_background": "light"
     },
     "output_type": "display_data"
    }
   ],
   "source": [
    "plt.imshow(suv_pet_nii.get_fdata().max(axis=1), vmin=0.0, vmax=10.0)"
   ]
  }
 ],
 "metadata": {
  "kernelspec": {
   "display_name": "Python 3",
   "language": "python",
   "name": "python3"
  },
  "language_info": {
   "codemirror_mode": {
    "name": "ipython",
    "version": 3
   },
   "file_extension": ".py",
   "mimetype": "text/x-python",
   "name": "python",
   "nbconvert_exporter": "python",
   "pygments_lexer": "ipython3",
   "version": "3.7.9"
  }
 },
 "nbformat": 4,
 "nbformat_minor": 5
}
