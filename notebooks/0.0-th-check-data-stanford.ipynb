{
 "cells": [
  {
   "cell_type": "code",
   "execution_count": 88,
   "id": "satisfactory-hindu",
   "metadata": {},
   "outputs": [],
   "source": [
    "import pathlib as plb\n",
    "\n",
    "import nibabel as nib\n",
    "import pydicom "
   ]
  },
  {
   "cell_type": "code",
   "execution_count": 89,
   "id": "virgin-furniture",
   "metadata": {},
   "outputs": [],
   "source": [
    "subject_dir = plb.Path('/midas/datasets/StanfordPet/dicoms/1.2.840.4267.32.48745771154918254820387579327347734113/')"
   ]
  },
  {
   "cell_type": "code",
   "execution_count": 90,
   "id": "hungarian-kansas",
   "metadata": {},
   "outputs": [],
   "source": [
    "dcm_dir_ct = subject_dir/'1.2.840.4267.32.104057437545766588380007887338868337386'\n",
    "dcm_dir_pet = subject_dir/'1.2.840.4267.32.232992583090883834600429055325557630803'"
   ]
  },
  {
   "cell_type": "code",
   "execution_count": 95,
   "id": "continent-yield",
   "metadata": {},
   "outputs": [
    {
     "name": "stdout",
     "output_type": "stream",
     "text": [
      "/midas/datasets/StanfordPet/dicoms/1.2.840.4267.32.48745771154918254820387579327347734113/1.2.840.4267.32.240109880428157993402160239838488157807\n",
      "'FileDataset' object has no attribute 'RadiopharmaceuticalInformationSequence'\n",
      "/midas/datasets/StanfordPet/dicoms/1.2.840.4267.32.48745771154918254820387579327347734113/1.2.840.4267.32.318626227968523212269659353353331314052\n",
      "'FileDataset' object has no attribute 'RadiopharmaceuticalInformationSequence'\n",
      "/midas/datasets/StanfordPet/dicoms/1.2.840.4267.32.48745771154918254820387579327347734113/1.2.840.4267.32.11577119061954789882743906641090385343\n",
      "'FileDataset' object has no attribute 'AcquisitionTime'\n",
      "/midas/datasets/StanfordPet/dicoms/1.2.840.4267.32.48745771154918254820387579327347734113/1.2.840.4267.32.184676413834464252819988639243888312412\n",
      "'FileDataset' object has no attribute 'AcquisitionTime'\n",
      "/midas/datasets/StanfordPet/dicoms/1.2.840.4267.32.48745771154918254820387579327347734113/1.2.840.4267.32.28298927987157254102737033985676262450\n",
      "'FileDataset' object has no attribute 'RadiopharmaceuticalInformationSequence'\n",
      "/midas/datasets/StanfordPet/dicoms/1.2.840.4267.32.48745771154918254820387579327347734113/1.2.840.4267.32.205527627075697075113693031124962064825\n",
      "'FileDataset' object has no attribute 'RadiopharmaceuticalInformationSequence'\n",
      "/midas/datasets/StanfordPet/dicoms/1.2.840.4267.32.48745771154918254820387579327347734113/1.2.840.4267.32.270646930394294660247314758742599565524\n",
      "'FileDataset' object has no attribute 'RadiopharmaceuticalInformationSequence'\n"
     ]
    }
   ],
   "source": [
    "for d in subject_dir.glob('*'):\n",
    "    print(d)\n",
    "    ds = pydicom.read_file(next(d.glob('*.dcm')))\n",
    "    try:\n",
    "        total_dose = ds.RadiopharmaceuticalInformationSequence[0].RadionuclideTotalDose\n",
    "        start_time = ds.RadiopharmaceuticalInformationSequence[0].RadiopharmaceuticalStartTime\n",
    "        half_life = ds.RadiopharmaceuticalInformationSequence[0].RadionuclideHalfLife\n",
    "        acq_time = ds.AcquisitionTime\n",
    "        weight = ds.PatientWeight\n",
    "    except Exception as e:\n",
    "        print(e)"
   ]
  },
  {
   "cell_type": "code",
   "execution_count": 92,
   "id": "united-ordering",
   "metadata": {},
   "outputs": [
    {
     "name": "stdout",
     "output_type": "stream",
     "text": [
      "Modality sanity check finished successfully!\n"
     ]
    }
   ],
   "source": [
    "# modality sanity check\n",
    "for dcm_file in dcm_dir_ct.glob('*.dcm'):\n",
    "    ds = pydicom.read_file(dcm_file)\n",
    "    assert ds.Modality == 'CT'\n",
    "\n",
    "for dcm_file in dcm_dir_pet.glob('*.dcm'):\n",
    "    ds = pydicom.read_file(dcm_file)\n",
    "    assert ds.Modality == 'PT'\n",
    "    \n",
    "print('Modality sanity check finished successfully!')"
   ]
  }
 ],
 "metadata": {
  "kernelspec": {
   "display_name": "Python 3",
   "language": "python",
   "name": "python3"
  },
  "language_info": {
   "codemirror_mode": {
    "name": "ipython",
    "version": 3
   },
   "file_extension": ".py",
   "mimetype": "text/x-python",
   "name": "python",
   "nbconvert_exporter": "python",
   "pygments_lexer": "ipython3",
   "version": "3.7.9"
  }
 },
 "nbformat": 4,
 "nbformat_minor": 5
}
